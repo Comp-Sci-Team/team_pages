{
 "cells": [
  {
   "cell_type": "code",
   "execution_count": null,
   "id": "3903bb00",
   "metadata": {
    "vscode": {
     "languageId": "yaml"
    }
   },
   "outputs": [],
   "source": [
    "---\n",
    "toc: true\n",
    "layout: post\n",
    "data: tools\n",
    "title: Sci-Fi Guidebook\n",
    "description: Interactive guidebook for terminal commands\n",
    "permalink: /tools/scifi_tools\n",
    "breadcrumb: /tools\n",
    "breadcrumbs: true\n",
    "---"
   ]
  },
  {
   "cell_type": "markdown",
   "id": "51bec348",
   "metadata": {
    "vscode": {
     "languageId": "html"
    }
   },
   "source": [
    "<style>\n",
    "\tbody {\n",
    "\t\tbackground-image: url('{{site.baseurl}}/images/tools/book.jpeg');\n",
    "\t\tbackground-repeat: no-repeat;\n",
    "\t\tbackground-attachment: fixed;\n",
    "\t\tbackground-size: 100% 100%;\n",
    "\t\tcolor: black;\n",
    "\t}\n",
    "</style>\n",
    "\n",
    "<body>\n",
    "    <p>ADD TEXT FOR SCI FI TOOLS HERE wowie</p>\n",
    "</body>"
   ]
  }
 ],
 "metadata": {
  "language_info": {
   "name": "python"
  }
 },
 "nbformat": 4,
 "nbformat_minor": 5
}
