{
 "cells": [
  {
   "cell_type": "code",
   "execution_count": null,
   "id": "3903bb00",
   "metadata": {
    "vscode": {
     "languageId": "yaml"
    }
   },
   "outputs": [],
   "source": [
    "---\n",
    "toc: true\n",
    "layout: post\n",
    "data: tools\n",
    "title: Sci-Fi Guidebook\n",
    "description: Interactive guidebook for terminal commands\n",
    "permalink: /tools/scifi_tools\n",
    "breadcrumb: /tools\n",
    "breadcrumbs: true\n",
    "---"
   ]
  },
  {
   "cell_type": "code",
   "execution_count": null,
   "id": "51bec348",
   "metadata": {
    "vscode": {
     "languageId": "html"
    }
   },
   "outputs": [],
   "source": [
    "%%html\n",
    "<!-- <style>\n",
    "  p {\n",
    "    background-image: url('/images/tools/book.jpeg');\n",
    "  }\n",
    "</style> -->\n",
    "\n",
    "<body style=\"background-image: url('images/tools/book.jpeg');\">\n",
    "    You can specify background images<br>\n",
    "\tfor any visible HTML element.<br>\n",
    "\tIn this example, the background image<br>\n",
    "\tis specified for a div element.<br>\n",
    "\tBy default, the background-image<br>\n",
    "\twill repeat itself in the direction(s)<br>\n",
    "\twhere it is smaller than the element<br>\n",
    "\twhere it is specified. (Try resizing the<br>\n",
    "\tbrowser window to see how the<br>\n",
    "\tbackground image behaves.\n",
    "</body>\n",
    "\n",
    "<!-- <p>You can specify background images<br>\n",
    "for any visible HTML element.<br>\n",
    "In this example, the background image<br>\n",
    "is specified for a div element.<br>\n",
    "By default, the background-image<br>\n",
    "will repeat itself in the direction(s)<br>\n",
    "where it is smaller than the element<br>\n",
    "where it is specified. (Try resizing the<br>\n",
    "browser window to see how the<br>\n",
    "background image behaves.</p>  -->"
   ]
  }
 ],
 "metadata": {
  "language_info": {
   "name": "python"
  }
 },
 "nbformat": 4,
 "nbformat_minor": 5
}
