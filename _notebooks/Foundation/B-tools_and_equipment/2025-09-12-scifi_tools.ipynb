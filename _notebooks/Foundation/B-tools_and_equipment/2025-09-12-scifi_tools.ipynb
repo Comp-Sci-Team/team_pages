{
 "cells": [
  {
   "cell_type": "markdown",
   "id": "4f0e3856",
   "metadata": {},
   "source": [
    "---\n",
    "toc: true\n",
    "layout: post\n",
    "data: tools\n",
    "title: Sci-Fi Guidebook\n",
    "description: Interactive guidebook for terminal commands\n",
    "permalink: /tools/scifi_tools\n",
    "breadcrumb: /tools\n",
    "breadcrumbs: true\n",
    "---"
   ]
  },
  {
   "cell_type": "markdown",
   "id": "51bec348",
   "metadata": {},
   "source": [
    "# Sci-Fi Guidebook"
   ]
  }
 ],
 "metadata": {
  "language_info": {
   "name": "python"
  }
 },
 "nbformat": 4,
 "nbformat_minor": 5
}
