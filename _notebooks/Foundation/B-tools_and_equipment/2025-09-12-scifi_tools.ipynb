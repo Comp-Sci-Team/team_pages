{
 "cells": [
  {
   "cell_type": "code",
   "execution_count": null,
   "id": "3903bb00",
   "metadata": {
    "vscode": {
     "languageId": "yaml"
    }
   },
   "outputs": [],
   "source": [
    "---\n",
    "toc: true\n",
    "layout: post\n",
    "data: tools\n",
    "title: Sci-Fi Guidebook\n",
    "description: Interactive guidebook for terminal commands\n",
    "permalink: /tools/scifi_tools\n",
    "breadcrumb: /tools\n",
    "breadcrumbs: true\n",
    "---"
   ]
  },
  {
   "cell_type": "markdown",
   "id": "51bec348",
   "metadata": {
    "vscode": {
     "languageId": "html"
    }
   },
   "source": [
    "<style>\n",
    "  p {\n",
    "    background-image: url('/images/tools/book.jpeg');\n",
    "  }\n",
    "</style>\n",
    "\n",
    "<p>You can specify background images<br>\n",
    "for any visible HTML element.<br>\n",
    "In this example, the background image<br>\n",
    "is specified for a div element.<br>\n",
    "By default, the background-image<br>\n",
    "will repeat itself in the direction(s)<br>\n",
    "where it is smaller than the element<br>\n",
    "where it is specified. (Try resizing the<br>\n",
    "browser window to see how the<br>\n",
    "background image behaves.</p> "
   ]
  }
 ],
 "metadata": {
  "language_info": {
   "name": "python"
  }
 },
 "nbformat": 4,
 "nbformat_minor": 5
}
