{
 "cells": [
  {
   "cell_type": "code",
   "execution_count": null,
   "id": "c46ec94b",
   "metadata": {
    "vscode": {
     "languageId": "yaml"
    }
   },
   "outputs": [],
   "source": [
    "---\n",
    "layout: post\n",
    "data: tools\n",
    "title: Sci-Fi Guidebook Table of Contents\n",
    "description: Table of Contents for Guidebook\n",
    "permalink: /sci-fi/toc\n",
    "---"
   ]
  },
  {
   "cell_type": "markdown",
   "id": "3ee391ff",
   "metadata": {},
   "source": [
    "<style>\n",
    "\tbody {\n",
    "\t\tbackground-image: url('{{site.baseurl}}/images/tools/paper_background.jpg');\n",
    "\t\tbackground-repeat: no-repeat;\n",
    "\t\tbackground-attachment: fixed;\n",
    "\t\tbackground-size: 100% 100%;\n",
    "\t\tcolor: red !important;\n",
    "\t}\n",
    "</style>\n",
    "\n",
    "<h2 style=\"color: red !important;\">This heading will be red.</h2>\n",
    "<span style=\"color: red;\">This text will be red.</span>\n",
    "\n",
    "- <a href=\"{{site.baseurl}}/sci-fi/page1\">Chapter 1 - Terminal</a>\n",
    "- [Chapter 2 - Make]({{site.baseurl}}/sci-fi/page2)\n",
    "- [Chapter 3 - Deploy]({{site.baseurl}}/sci-fi/page3)\n",
    "\n",
    "<button type=\"button\" onclick=\"window.location.href='{{site.baseurl}}/tools/scifi_tools';\" style=\"border: 4px solid orange; background-color: #007bff; padding: 15px 30px; cursor:pointer;\">\n",
    "Close book\n",
    "</button>\n",
    "\n"
   ]
  }
 ],
 "metadata": {
  "language_info": {
   "name": "python"
  }
 },
 "nbformat": 4,
 "nbformat_minor": 5
}
