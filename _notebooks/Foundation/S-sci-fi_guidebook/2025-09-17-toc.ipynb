{
 "cells": [
  {
   "cell_type": "code",
   "execution_count": null,
   "id": "c46ec94b",
   "metadata": {
    "vscode": {
     "languageId": "yaml"
    }
   },
   "outputs": [],
   "source": [
    "---\n",
    "layout: post\n",
    "data: tools\n",
    "title: Sci-Fi Guidebook Table of Contents\n",
    "description: First page of Sci-Fi Guidebook\n",
    "permalink: /sci-fi/toc\n",
    "---"
   ]
  },
  {
   "cell_type": "markdown",
   "id": "3ee391ff",
   "metadata": {},
   "source": [
    "## Page 1 - Terminal Commands\n",
    "\n",
    "\n",
    "\n",
    "<button type=\"button\" onclick=\"window.location.href='{{site.baseurl}}/tools/scifi_tools';\" style=\"border: 4px solid orange; background-color: #007bff; padding: 15px 30px; cursor:pointer;\">\n",
    "Close book\n",
    "</button>\n",
    "\n"
   ]
  }
 ],
 "metadata": {
  "language_info": {
   "name": "python"
  }
 },
 "nbformat": 4,
 "nbformat_minor": 5
}
