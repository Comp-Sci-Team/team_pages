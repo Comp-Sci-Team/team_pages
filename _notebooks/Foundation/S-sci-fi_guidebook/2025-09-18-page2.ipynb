{
 "cells": [
  {
   "cell_type": "markdown",
   "id": "0884763d",
   "metadata": {
    "vscode": {
     "languageId": "plaintext"
    }
   },
   "source": [
    "---\n",
    "layout: post\n",
    "data: tools\n",
    "title: Sci-Fi Guidebook Page 2\n",
    "description: Page 2 of Guidebook\n",
    "permalink: /sci-fi/page2\n",
    "---"
   ]
  },
  {
   "cell_type": "markdown",
   "id": "ff286055",
   "metadata": {},
   "source": [
    "## WASUPSPDUFIOPSDJFOIJSDF"
   ]
  }
 ],
 "metadata": {
  "language_info": {
   "name": "python"
  }
 },
 "nbformat": 4,
 "nbformat_minor": 5
}
