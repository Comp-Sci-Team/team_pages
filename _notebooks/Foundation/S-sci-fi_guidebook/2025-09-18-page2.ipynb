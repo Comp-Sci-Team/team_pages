{
 "cells": [
  {
   "cell_type": "markdown",
   "id": "0884763d",
   "metadata": {
    "vscode": {
     "languageId": "plaintext"
    }
   },
   "source": [
    "---\n",
    "layout: post\n",
    "data: tools\n",
    "title: Sci-Fi Guidebook Page 2\n",
    "description: Page 2 of Guidebook\n",
    "permalink: /sci-fi/page2\n",
    "---"
   ]
  },
  {
   "cell_type": "markdown",
   "id": "ff286055",
   "metadata": {},
   "source": [
    "<style>\n",
    "\tbody {\n",
    "\t\tbackground-image: url('{{site.baseurl}}/images/tools/sci-fi-tool/simplistic_background.gif');\n",
    "\t\tbackground-repeat: no-repeat;\n",
    "\t\tbackground-attachment: fixed;\n",
    "\t\tbackground-size: 100% 100%;\n",
    "\t}\n",
    "</style>\n",
    "\n",
    "## WASUPSPDUFIOPSDJFOIJSDF"
   ]
  }
 ],
 "metadata": {
  "language_info": {
   "name": "python"
  }
 },
 "nbformat": 4,
 "nbformat_minor": 5
}
