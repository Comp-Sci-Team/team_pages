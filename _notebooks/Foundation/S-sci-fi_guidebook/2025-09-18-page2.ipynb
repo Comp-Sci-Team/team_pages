{
 "cells": [
  {
   "cell_type": "markdown",
   "id": "0884763d",
   "metadata": {
    "vscode": {
     "languageId": "plaintext"
    }
   },
   "source": [
    "---\n",
    "layout: post\n",
    "data: tools\n",
    "title: Sci-Fi Guidebook Page 2\n",
    "description: Page 2 of Guidebook\n",
    "permalink: /sci-fi/page2\n",
    "---"
   ]
  },
  {
   "cell_type": "markdown",
   "id": "ff286055",
   "metadata": {},
   "source": [
    "<style>\n",
    "\tbody {\n",
    "\t\tbackground-image: url('{{site.baseurl}}/images/tools/sci-fi-tool/simplistic_background.gif');\n",
    "\t\tbackground-repeat: no-repeat;\n",
    "\t\tbackground-attachment: fixed;\n",
    "\t\tbackground-size: 100% 100%;\n",
    "\t}\n",
    "</style>\n",
    "\n",
    "<h2 style=\"color: black !important;\">Make</h2>\n",
    "\n",
    "Make is a build automation system which is very useful for compiling your programs. <br/>\n",
    "<b>What does all this mean though? </b><br/><br/>\n",
    "\n",
    "<u>Compiling:</u> <br/>\n",
    "You can't just directly run most code files on your system, this is what compilation is for. Compilation is where a code file is read and turned into machine code so it can be run as an executable. Compilation can also be used to make code files work on a website. <br/><br/>\n",
    "\n",
    "<u>Build Automation System:</u> <br/>\n",
    "Since directly compiling files can become very tedious very fast, build automation systems have been made. Build automation systems make it easier for users to compile files into a usable executable.<br/><br/><br/>\n",
    "\n",
    "<u>How to use make:</u> <br/>\n",
    "You typically interact with make with files called \"Makefiles\". These files list all of the information needed for compilation of files. You hold Makefiles in the root folder of your project.<br/>\n",
    "In order to run make you need to run the command <code>make</code> in the same directory as the Makefile. This will read through the Makefile and compile your project into a usable executable. <br/>\n",
    "Make is really useful for hosting websites locally on your computer, but you shouldn't do this when you are trying to host a release of your website.<br/><br/><br/>\n",
    "\n",
    "<img src=\"images/tools/sci-fi-tool/build_automation.jpg\" alt=\"Build Automation\">\n",
    "\n",
    "\n",
    "\n",
    "\n",
    "\n"
   ]
  }
 ],
 "metadata": {
  "language_info": {
   "name": "python"
  }
 },
 "nbformat": 4,
 "nbformat_minor": 5
}
