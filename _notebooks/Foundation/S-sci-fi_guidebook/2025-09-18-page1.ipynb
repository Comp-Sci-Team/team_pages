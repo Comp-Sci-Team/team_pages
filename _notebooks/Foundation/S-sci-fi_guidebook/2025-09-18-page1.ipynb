{
 "cells": [
  {
   "cell_type": "markdown",
   "id": "69f3ef1c",
   "metadata": {
    "vscode": {
     "languageId": "plaintext"
    }
   },
   "source": [
    "---\n",
    "layout: post\n",
    "data: tools\n",
    "title: Sci-Fi Guidebook Page 1\n",
    "description: Page 1 of Guidebook\n",
    "permalink: /sci-fi/page1\n",
    "---"
   ]
  },
  {
   "cell_type": "markdown",
   "id": "2d96e415",
   "metadata": {},
   "source": [
    "## wASSAAAA"
   ]
  }
 ],
 "metadata": {
  "language_info": {
   "name": "python"
  }
 },
 "nbformat": 4,
 "nbformat_minor": 5
}
