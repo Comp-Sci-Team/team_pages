{
 "cells": [
  {
   "cell_type": "markdown",
   "id": "69f3ef1c",
   "metadata": {
    "vscode": {
     "languageId": "plaintext"
    }
   },
   "source": [
    "---\n",
    "layout: post\n",
    "data: tools\n",
    "title: Sci-Fi Guidebook Page 1\n",
    "description: Page 1 of Guidebook\n",
    "permalink: /sci-fi/page1\n",
    "---"
   ]
  },
  {
   "cell_type": "markdown",
   "id": "2d96e415",
   "metadata": {},
   "source": [
    "<style>\n",
    "\tbody {\n",
    "\t\tbackground-image: url('{{site.baseurl}}/images/tools/paper_background.jpg');\n",
    "\t\tbackground-repeat: no-repeat;\n",
    "\t\tbackground-attachment: fixed;\n",
    "\t\tbackground-size: 100% 100%;\n",
    "\t}\n",
    "</style>\n",
    "\n",
    "<h2 style=\"color: black !important;\">Terminal</h2>\n",
    "\n",
    "<div style=\"color: black;\">\n",
    "Terminal can be confusing for many people starting out in this class, especially with all the different commands needed for different functions. It can be hard to remember what the commands are, and what they do, so here is a study guide to prevent you from ever forgetting the terminal commands.<br/><br/>This will provide you with both information and practice challenges to make sure you've got everything on lock.\n",
    "\n",
    "We will talk about\n",
    "<ul>\n",
    "<li>git clone\n",
    "<li>directories(and what they are)\n",
    "<li>directory management\n",
    "<ul>\n",
    "\n",
    "<h3 style=\"color: black !important;\">Git Clone</h3>\n",
    "\n",
    "<h3 style=\"color: black !important;\">What are directories?</h3>\n",
    "\n",
    "<h3 style=\"color: black !important;\">How to manage your directories</h3>\n",
    "\n",
    "<button type=\"button\" onclick=\"window.location.href='{{site.baseurl}}/sci-fi/toc';\" style=\"border: 4px solid orange; background-color: #007bff; padding: 15px 30px; cursor:pointer;\">\n",
    "Previous Page\n",
    "</button>"
   ]
  }
 ],
 "metadata": {
  "language_info": {
   "name": "python"
  }
 },
 "nbformat": 4,
 "nbformat_minor": 5
}
