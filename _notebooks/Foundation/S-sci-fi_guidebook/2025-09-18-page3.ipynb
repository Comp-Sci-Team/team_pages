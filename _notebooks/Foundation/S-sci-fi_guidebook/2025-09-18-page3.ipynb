{
 "cells": [
  {
   "cell_type": "markdown",
   "id": "16055dca",
   "metadata": {
    "vscode": {
     "languageId": "plaintext"
    }
   },
   "source": [
    "---\n",
    "layout: post\n",
    "data: tools\n",
    "title: Sci-Fi Guidebook Page 3\n",
    "description: Page 3 of Guidebook\n",
    "permalink: /sci-fi/page3\n",
    "---"
   ]
  },
  {
   "cell_type": "markdown",
   "id": "e955dd59",
   "metadata": {},
   "source": [
    "<style>\n",
    "\tbody {\n",
    "\t\tbackground-image: url('{{site.baseurl}}/images/tools/sci-fi-tool/simplistic_background.gif');\n",
    "\t\tbackground-repeat: no-repeat;\n",
    "\t\tbackground-attachment: fixed;\n",
    "\t\tbackground-size: 100% 100%;\n",
    "\t}\n",
    "</style>\n",
    "\n",
    "## Squiibl squobbl"
   ]
  }
 ],
 "metadata": {
  "language_info": {
   "name": "python"
  }
 },
 "nbformat": 4,
 "nbformat_minor": 5
}
