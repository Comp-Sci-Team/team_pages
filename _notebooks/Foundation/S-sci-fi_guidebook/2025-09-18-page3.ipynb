{
 "cells": [
  {
   "cell_type": "markdown",
   "id": "16055dca",
   "metadata": {
    "vscode": {
     "languageId": "plaintext"
    }
   },
   "source": [
    "---\n",
    "layout: post\n",
    "data: tools\n",
    "title: Sci-Fi Guidebook Page 3\n",
    "description: Page 3 of Guidebook\n",
    "permalink: /sci-fi/page3\n",
    "---"
   ]
  },
  {
   "cell_type": "markdown",
   "id": "e955dd59",
   "metadata": {},
   "source": [
    "<style>\n",
    "\tbody {\n",
    "\t\tbackground-image: url('{{site.baseurl}}/images/tools/sci-fi-tool/simplistic_background.gif');\n",
    "\t\tbackground-repeat: no-repeat;\n",
    "\t\tbackground-attachment: fixed;\n",
    "\t\tbackground-size: 100% 100%;\n",
    "\t}\n",
    "</style>\n",
    "\n",
    "<h2 style=\"color: black !important;\">Deploy</h2>\n",
    "\n",
    "When you want to finally make a release of your website you can't use make. Instead, you have to deploy your website. <br/>\n",
    "There are a few ways to deploy websites, but a good free option is github pages. <br/><br/>\n",
    "\n",
    "<u><b>Steps to deploy on Github Pages:</b></u>\n",
    "<ol>\n",
    "\t<li>Create a github repository</li>\n",
    "\t<li>Clone the repository onto your system</li>\n",
    "    <li>Create all of your website's files in this repository, or copy your existing files into it</li>\n",
    "    <li>Go to your repository's settings and enable Github Pages</li>\n",
    "\t<li>Now you can either deploy your site using the current branch, or with github actions</li>\n",
    "\t<li>With Github Actions you can have your website deployed with Jekyll each time you commit to it</li>\n",
    "\t<li>Once the site is deployed</li>\n",
    "\t\t<ol>\n",
    "\t\t\t<li>Go to the \"Pages\" section of the repo's settings</li>\n",
    "\t\t\t<li>Click on your deployed website's link</li>\n",
    "\t\t</ol>\n",
    "</ol>\n",
    "<br/><br/>\n",
    "\n",
    "<img src=\"{{site.baseurl}}/images/tools/sci-fi-tool/github_deploy.png\" alt=\"Github Pages Deploy\">\n",
    "<br/><br/>\n",
    "\n",
    "Now you have succesfully set up your website and you can distribute the link to your deployed version to whoever you want to use your website.\n"
   ]
  }
 ],
 "metadata": {
  "language_info": {
   "name": "python"
  }
 },
 "nbformat": 4,
 "nbformat_minor": 5
}
