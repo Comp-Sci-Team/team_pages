{
 "cells": [
  {
   "cell_type": "markdown",
   "id": "16055dca",
   "metadata": {
    "vscode": {
     "languageId": "plaintext"
    }
   },
   "source": [
    "---\n",
    "layout: post\n",
    "data: tools\n",
    "title: Sci-Fi Guidebook Page 3\n",
    "description: Page 3 of Guidebook\n",
    "permalink: /sci-fi/page3\n",
    "---"
   ]
  },
  {
   "cell_type": "markdown",
   "id": "e955dd59",
   "metadata": {},
   "source": [
    "## Squiibl squobbl"
   ]
  }
 ],
 "metadata": {
  "language_info": {
   "name": "python"
  }
 },
 "nbformat": 4,
 "nbformat_minor": 5
}
